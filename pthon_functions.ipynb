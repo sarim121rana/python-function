{
  "nbformat": 4,
  "nbformat_minor": 0,
  "metadata": {
    "colab": {
      "provenance": []
    },
    "kernelspec": {
      "name": "python3",
      "display_name": "Python 3"
    },
    "language_info": {
      "name": "python"
    }
  },
  "cells": [
    {
      "cell_type": "markdown",
      "source": [
        "1. What is the difference between a function and a method in Python.  \n",
        " -  Function >> : a block of code that performs a task and can be called indenpendently.\n",
        " -  Defined independently, outside of any object.\n",
        " -  call syntax >> function_name( )\n",
        " -  ex : python def greet( )    \n",
        "                    print(\"Hello\")\n",
        "                    greet( )\n",
        " -  doen't need a object to operate.  \n",
        " -  Method >> :  A function that is associated with an object and called on that object.\n",
        " -  Defined inside a class and works on the object of that class.  \n",
        " -  call syntax >> : object.method_name( )\n",
        " -  ex :    class persion( ):\n",
        "                  def greet(self)\n",
        "                      print(\"Hello\")\n",
        "                      p=persion\n",
        "                      p.greet()\n",
        " -  Requires an object to be called.\n",
        " - A FINCTION is just a reuseable piece of code you can  call directly.\n",
        " - A METHOD is a function that is tied to an object or class - it knows about the object and often manipulates it.                                  "
      ],
      "metadata": {
        "id": "A_MGbpJt5JW7"
      }
    },
    {
      "cell_type": "markdown",
      "source": [
        "2.  Explain the concept of function arguments and parameters in Python.  \n",
        " -  parameter >> : A Variable in the function definition that accepts a value when the function is called.  \n",
        " -  Arguments >> :  The actual value you pass to the function when calling it.\n",
        " -  PARAMETERS --> placeholders in the definition.  \n",
        " -  ARGUMENTS -->  real values you send during the call.\n",
        "                 def greet(name): #'name' is a parameter   \n",
        "                     print(f\"Hello ,{name}!\")\n",
        "                     greet(\"Alice\") # Alice is an arguments."
      ],
      "metadata": {
        "id": "HLgDOjgw5JNT"
      }
    },
    {
      "cell_type": "markdown",
      "source": [
        "3. What are the different ways to define and call a function in Python?  \n",
        " - Ways of define a function -->\n",
        "    1. Regular def function.\n",
        "    2. Function with parameters.\n",
        "    3. function with a returen value.\n",
        "    4. function with default value.\n",
        "    5. Variable-length arguments.\n",
        "    6. Lambda (anonymous) function\n",
        "    7. Nested function\n",
        "  - Ways to call a function -->\n",
        "    1. Normal call\n",
        "    2. With positional and keyword arguments\n",
        "    3. Using *args and *kwargs in call\n",
        "    4. call returned function (higher-order functions)\n",
        "    5. Call lambda\n",
        "    "
      ],
      "metadata": {
        "id": "8M4i93Hk5JCW"
      }
    },
    {
      "cell_type": "markdown",
      "source": [
        "4. What is the purpose of the `return` statement in a Python function?  \n",
        " -  The purpose of the return statement in a python function is :  \n",
        "     1. To end the execution of the function and  \n",
        "    2. To send a value(or value) back to the caller of the function.\n",
        "  -  when python encounters a return, it immediately exists the function and gives the specified value(s) back to the place where the function was called.   "
      ],
      "metadata": {
        "id": "spk_eCdp5I3I"
      }
    },
    {
      "cell_type": "markdown",
      "source": [
        "5.  What are iterators in Python and how do they differ from iterables?  \n",
        " -  ITERABLE -->> An iterable is any python object that can be \"looped over\" (you can iterate over it using a for loop).\n",
        " -  It implements the __iter__() method, which return am iterator.\n",
        "               my_list=[1,2,3]\n",
        "               for i in my_list:   #here, my_list is an itrable.\n",
        " -  ITERATOR  -->>  An iterator is the object that actually does the work of iteratinng.\n",
        " -  It remembers where it is in the sequence and konws how to get the next value.  \n",
        "             my_list=[1,2,3]\n",
        "             it=iter(my_list)   #it is now an iterator.              "
      ],
      "metadata": {
        "id": "FUCZWIvY5Igf"
      }
    },
    {
      "cell_type": "markdown",
      "source": [
        "6.  Explain the concept of generators in Python and how they are defined.  \n",
        " -  A generator is a special kind of iterator in python.\n",
        " -  It allows you to create an iterator in a simple and memory-efficient way, without creating the entire sequence in the memory at once.\n",
        " -  Generators are defined using a function with yield statement istead of return.\n",
        " -  Useful when you need to iterate over a large sequence, but don't want to store all the values in memory.\n",
        " -  They generate values on the fly (lazy evaluation.)\n",
        "                def count_up_to(3)\n",
        "                    count=1\n",
        "                    while count <=n:\n",
        "                        yield count\n",
        "                        count =+1\n",
        "                gen=count_up_to(3)\n",
        "\n",
        "                print(next(gen)) #1\n",
        "                print(next(gen)) #2      \n",
        "                print(next(gen)) #3"
      ],
      "metadata": {
        "id": "FEdyicL65IR2"
      }
    },
    {
      "cell_type": "markdown",
      "source": [
        "7. What are the advantages of using generators over regular functions?  \n",
        " -  1. Memory efficient :\n",
        "    -  Generators don't store all the values in memory - they generate one value at a time.\n",
        "    -  Regular function (that return a list,for example) create the entire list in memory, which can be costly for large data\n",
        "\n",
        " -  2. Lazy evalution :-\n",
        "    -  Generators compute values only when you ask for them (next( )), not all at once.\n",
        "    -  this is called lazy evalution and it saves CPU & memory when you don't need all resukts at once.\n",
        " -  3. Infinite sequence :-\n",
        "     -  You can create generators that produce infinite sequence, because they don't store everything.  \n",
        "    4. cleaner and simpler code :-  \n",
        "    - Generators can simplify code by removing the need for temporary data structure, loop , and intermediate result.     "
      ],
      "metadata": {
        "id": "IA78Lif9N8Wx"
      }
    },
    {
      "cell_type": "markdown",
      "source": [
        "8. What is a lambda function in Python and when is it typically used?  \n",
        " -  A lambda function is an anonymous(nameless), single-expression function defined usnig the lambda keyword. it can take any number of arguments but can only have one expression which it evaluate and returns.  \n",
        " -  When is it typically used -->>\n",
        "    -   You used a lambda function when you need a quick,short, one time use function - often passed as an argument to highher order function like:\n",
        "        -   map( )\n",
        "        -   filter( )\n",
        "        -   sorted( )\n",
        "        -   reduce( ) (from functool)\n",
        "       "
      ],
      "metadata": {
        "id": "exZe1owSN8Kz"
      }
    },
    {
      "cell_type": "markdown",
      "source": [
        "9. Explain the purpose and usage of the `map()` function in Python.  \n",
        " -  The map ( ) function applies a given function to each item of an iterable(like a list,tuple,etc.) and returns a map object (an iterator) with the result.  \n",
        " -  It's used to transform or process all elements of an iterable without explicitly writing a loop.\n",
        " -  It promotes cleaner and more functional-style-code."
      ],
      "metadata": {
        "id": "_JK2LMhHN78g"
      }
    },
    {
      "cell_type": "markdown",
      "source": [
        "10. What is the difference between `map()`, `reduce()`, and `filter()` functions in Python?   \n",
        " 1. Map ( )      \n",
        "       purpose :-->>  To transform each element of an iterable using a function.   \n",
        "       -  it applies a function to each item of an iterable and returns a map object of an iterable and returns a map object (which you can turn into a list,etc.)  \n",
        "       -  input : function + iterables.  \n",
        "       -  output : iterable where each elements is transformed.\n",
        " 2. filter( )  \n",
        "     purpose : ->> To filter out elements that do not stisfy a condition.\n",
        "      -  It applies a function (that returns True / False) to each item and keep only those for which the function returns True.\n",
        "      - input :  function + iterable.\n",
        "      - output : Iterable where some elements are removed based on a condition.  \n",
        " 3. reduce ( )   \n",
        "      prupose : ->> To reduce an iterable into a single value by appling a function cumulatively.\n",
        "      -  It applies a function to the first two items, then to the result and the next items, and so on .  \n",
        "      -  Requires importing from functools."
      ],
      "metadata": {
        "id": "Ee_rN1qjrSGE"
      }
    },
    {
      "cell_type": "markdown",
      "source": [
        "11. write the internal mechanism for sum operation using  reduce function on this given.\n",
        "list:[47,11,42,13];  \n",
        " -  from functools import   \n",
        "\n",
        "         lst=[47,11,42,13]   \n",
        "         def add(x , y) :  \n",
        "              print (f\"x={x}, y = {y}, x+y = {x + y}\")   \n",
        "              return x + y\n",
        "         result = reduce (add ,list)   \n",
        "         print (f\" final result : {result}\")   "
      ],
      "metadata": {
        "id": "9H8SoYlfrS0p"
      }
    },
    {
      "cell_type": "markdown",
      "source": [
        "# Practical Questions."
      ],
      "metadata": {
        "id": "HTNrNhcpnc3t"
      }
    },
    {
      "cell_type": "code",
      "source": [
        "# 1.  Write a Python function that takes a list of numbers as input and returns the sum of all even numbers in the list.\n",
        "def sum_of_even(numbers):\n",
        "    sum = 0\n",
        "    for num in numbers:\n",
        "        if num % 2 == 0:\n",
        "            sum += num\n",
        "    return sum\n",
        "\n",
        "numbers = [1, 2, 3, 4, 5, 6, 7, 8, 9, 10]\n",
        "result = sum_of_even(numbers)\n",
        "print(result)\n",
        "\n",
        "\n"
      ],
      "metadata": {
        "colab": {
          "base_uri": "https://localhost:8080/"
        },
        "id": "2kNt39YFnmyU",
        "outputId": "901feafe-8781-497d-e515-eaa72314d968"
      },
      "execution_count": 4,
      "outputs": [
        {
          "output_type": "stream",
          "name": "stdout",
          "text": [
            "30\n"
          ]
        }
      ]
    },
    {
      "cell_type": "code",
      "source": [
        "# 2.Create a Python function that accepts a string and returns the reverse of that string.\n",
        "def reverse_string(string):\n",
        "    reversed_string = \"\"\n",
        "    for char in string:\n",
        "        reversed_string = char + reversed_string\n",
        "    return reversed_string\n",
        "\n",
        "\n",
        "string = \"I am a student of computer science\"\n",
        "result = reverse_string(string)\n",
        "print(result)"
      ],
      "metadata": {
        "colab": {
          "base_uri": "https://localhost:8080/"
        },
        "id": "SGCv-geRpDwc",
        "outputId": "0623bc68-41b6-4603-c98a-ab295c5b8e25"
      },
      "execution_count": 8,
      "outputs": [
        {
          "output_type": "stream",
          "name": "stdout",
          "text": [
            "ecneics retupmoc fo tneduts a ma I\n"
          ]
        }
      ]
    },
    {
      "cell_type": "code",
      "source": [
        "# 3. Implement a Python function that takes a list of integers and returns a new list containing the squares of each number.\n",
        "def square_list(numbers):\n",
        "  return [num ** 2 for num in numbers]\n",
        "\n",
        "numbers = [1, 2, 3, 4, 5]\n",
        "result = square_list(numbers)\n",
        "print(result)"
      ],
      "metadata": {
        "colab": {
          "base_uri": "https://localhost:8080/"
        },
        "id": "-GVnMB0rpjEY",
        "outputId": "daeffc95-480d-447a-9faf-f10c3fb25cc8"
      },
      "execution_count": 9,
      "outputs": [
        {
          "output_type": "stream",
          "name": "stdout",
          "text": [
            "[1, 4, 9, 16, 25]\n"
          ]
        }
      ]
    },
    {
      "cell_type": "code",
      "source": [
        "# 4. Write a Python function that checks if a given number is prime or not from 1 to 200.\n",
        "def is_prime(n):\n",
        "  if n <=1:\n",
        "    return False\n",
        "  for i in range(2,int(n**0.5)+1):\n",
        "    if n % i==0:\n",
        "      return False\n",
        "  return True\n",
        "\n",
        "\n",
        "for num in range(1,101):\n",
        "   if is_prime(num):\n",
        "      print(f\"{num} is prime\")"
      ],
      "metadata": {
        "colab": {
          "base_uri": "https://localhost:8080/"
        },
        "id": "2yU9ysqnqjY7",
        "outputId": "d840f769-9e96-47ea-f407-a0844deabad4"
      },
      "execution_count": 14,
      "outputs": [
        {
          "output_type": "stream",
          "name": "stdout",
          "text": [
            "2 is prime\n",
            "3 is prime\n",
            "5 is prime\n",
            "7 is prime\n",
            "11 is prime\n",
            "13 is prime\n",
            "17 is prime\n",
            "19 is prime\n",
            "23 is prime\n",
            "29 is prime\n",
            "31 is prime\n",
            "37 is prime\n",
            "41 is prime\n",
            "43 is prime\n",
            "47 is prime\n",
            "53 is prime\n",
            "59 is prime\n",
            "61 is prime\n",
            "67 is prime\n",
            "71 is prime\n",
            "73 is prime\n",
            "79 is prime\n",
            "83 is prime\n",
            "89 is prime\n",
            "97 is prime\n"
          ]
        }
      ]
    },
    {
      "cell_type": "code",
      "source": [
        "# 5. Create an iterator class in Python that generates the Fibonacci sequence up to a specified number of terms.\n",
        "class Fibonacci:\n",
        "    def __init__(self, n):\n",
        "        self.n = n\n",
        "        self.a, self.b = 0, 1\n",
        "        self.count = 0\n",
        "\n",
        "    def __iter__(self):\n",
        "        return self\n",
        "\n",
        "    def __next__(self):\n",
        "        if self.count >= self.n:\n",
        "            raise StopIteration\n",
        "        result = self.a\n",
        "        self.a, self.b = self.b, self.a + self.b\n",
        "        self.count += 1\n",
        "        return result\n",
        "\n",
        "\n",
        "for num in Fibonacci(10):\n",
        "    print(num, end=' ')"
      ],
      "metadata": {
        "colab": {
          "base_uri": "https://localhost:8080/"
        },
        "id": "4bkkDxalrv4x",
        "outputId": "0ab0e42f-7e00-4153-c853-507ef91eeca9"
      },
      "execution_count": 23,
      "outputs": [
        {
          "output_type": "stream",
          "name": "stdout",
          "text": [
            "0 1 1 2 3 5 8 13 21 34 "
          ]
        }
      ]
    },
    {
      "cell_type": "code",
      "source": [
        "# 6. Write a generator function in Python that yields the powers of 2 up to a given exponent.\n",
        "def powers_of_two(n):\n",
        "\n",
        "    for i in range(n+ 1):\n",
        "        yield 2 ** i\n",
        "\n",
        "\n",
        "for val in powers_of_two(10):\n",
        "    print(val, end=' ')"
      ],
      "metadata": {
        "colab": {
          "base_uri": "https://localhost:8080/"
        },
        "id": "_8axHZNDu-z1",
        "outputId": "0fbca43e-aafe-4330-fcf9-88f6326b8208"
      },
      "execution_count": 26,
      "outputs": [
        {
          "output_type": "stream",
          "name": "stdout",
          "text": [
            "1 2 4 8 16 32 64 128 256 512 1024 "
          ]
        }
      ]
    },
    {
      "cell_type": "code",
      "source": [
        "# 7.  Implement a generator function that reads a file line by line and yields each line as a string.\n",
        "def read_lines(file_path):\n",
        "    with open(file_path, 'r') as file:\n",
        "        for line in file:\n",
        "            yield line.strip()\n",
        "\n",
        "for line in read_lines('example.text'):\n",
        "  print(line)"
      ],
      "metadata": {
        "id": "z3qAm47PyouV"
      },
      "execution_count": null,
      "outputs": []
    },
    {
      "cell_type": "code",
      "source": [
        "# 8. Use a lambda function in Python to sort a list of tuples based on the second element of each tuple.\n",
        "data= [(1,3),(4,1),(2,2),(5,0)]\n",
        "sorted_data = sorted(data,key=lambda x:x[1])\n",
        "print(sorted_data)"
      ],
      "metadata": {
        "colab": {
          "base_uri": "https://localhost:8080/"
        },
        "id": "3zXqKxgszsEh",
        "outputId": "5b83bda2-9fca-4f4b-b33d-afd0b1782e80"
      },
      "execution_count": 28,
      "outputs": [
        {
          "output_type": "stream",
          "name": "stdout",
          "text": [
            "[(5, 0), (4, 1), (2, 2), (1, 3)]\n"
          ]
        }
      ]
    },
    {
      "cell_type": "code",
      "source": [
        "# 9.  Write a Python program that uses `map()` to convert a list of temperatures from Celsius to Fahrenheit.\n",
        "celsius = [0,20,37,100]\n",
        "fahrenheit = list(map(lambda x: (x * 9/5) + 32, celsius))\n",
        "print(fahrenheit)"
      ],
      "metadata": {
        "colab": {
          "base_uri": "https://localhost:8080/"
        },
        "id": "vxSb4OoJ1XVt",
        "outputId": "ff9da447-7fce-406e-e080-eff642306292"
      },
      "execution_count": 29,
      "outputs": [
        {
          "output_type": "stream",
          "name": "stdout",
          "text": [
            "[32.0, 68.0, 98.6, 212.0]\n"
          ]
        }
      ]
    },
    {
      "cell_type": "code",
      "source": [
        "# 10.  Create a Python program that uses `filter()` to remove all the vowels from a given string.\n",
        "text = \"Hello, how are you?\"\n",
        "vowels=\"AEIOUaeiou\"\n",
        "result = ''.join(filter(lambda x: x not in vowels, text))\n",
        "print(result)"
      ],
      "metadata": {
        "colab": {
          "base_uri": "https://localhost:8080/"
        },
        "id": "ikdM_mof2PQa",
        "outputId": "e1737115-7d79-45c9-c4f5-fcfab7260b14"
      },
      "execution_count": 30,
      "outputs": [
        {
          "output_type": "stream",
          "name": "stdout",
          "text": [
            "Hll, hw r y?\n"
          ]
        }
      ]
    },
    {
      "cell_type": "code",
      "source": [
        "# 11.\n",
        "orders = [[34587, \"Learning Python, Mark Lutez\", 4, 40.95],\n",
        "          [98762, \"Programming Python, Mark Lutz\", 5, 56.80],\n",
        "          [77226, \"Head First Python, Paul Barry\", 3, 32.95],\n",
        "          [88112, \"Einfuhrung in Python3, Bernd Klein\", 3, 24.99]]\n",
        "\n",
        "# Fixed the variable name in the lambda function from 'orders' to 'order'\n",
        "result = list(map(lambda order: (order[0], order[2] * order[3] if order[2] * order[3] >= 100 else order[2] * order[3] + 10), orders))\n",
        "\n",
        "print(result)"
      ],
      "metadata": {
        "colab": {
          "base_uri": "https://localhost:8080/"
        },
        "id": "TFhJSa_m26GC",
        "outputId": "6254ebf1-31cf-4761-d246-1d5764b50d33"
      },
      "execution_count": 45,
      "outputs": [
        {
          "output_type": "stream",
          "name": "stdout",
          "text": [
            "[(34587, 163.8), (98762, 284.0), (77226, 108.85000000000001), (88112, 84.97)]\n"
          ]
        }
      ]
    },
    {
      "cell_type": "code",
      "source": [],
      "metadata": {
        "id": "B8MgLnG86eT4"
      },
      "execution_count": null,
      "outputs": []
    }
  ]
}